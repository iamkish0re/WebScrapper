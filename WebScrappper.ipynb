{
 "cells": [
  {
   "cell_type": "code",
   "execution_count": 103,
   "id": "4c72656b",
   "metadata": {},
   "outputs": [],
   "source": [
    "import requests\n",
    "import bs4\n",
    "from bs4 import BeautifulSoup\n",
    "import logging\n",
    "logging.basicConfig(filename='webscrape.log' , format='%(asctime)s | %(levelname)s: %(message)s', level=logging.NOTSET)"
   ]
  },
  {
   "cell_type": "code",
   "execution_count": 104,
   "id": "e4cbc000",
   "metadata": {},
   "outputs": [],
   "source": [
    "def get_loc(result):\n",
    "    try:\n",
    "        return entry.find('div', {'class': 'companyLocation'}).text\n",
    "    except Exception as e:\n",
    "        return 'NA'\n",
    "\n",
    "\n",
    "def get_comp(result):\n",
    "    try:\n",
    "        return result.find('span', {'class': 'companyName'}).text\n",
    "    except:\n",
    "        return 'NA'\n",
    "\n",
    "\n",
    "def get_job(result):\n",
    "    try:\n",
    "        return result.find('h2', {'class': 'jobTitle'}).text\n",
    "    except:\n",
    "        return 'NA'\n",
    "\n",
    "\n",
    "def get_sal(result):\n",
    "    try:\n",
    "        return result.find('div', {'class': 'salaryOnly'}).text\n",
    "    except:\n",
    "        return 'NA'\n",
    "\n",
    "\n",
    "def get_desc(result):\n",
    "    try:\n",
    "        return result.find('div', {'class': 'job-snippet'}).text\n",
    "    except:\n",
    "        return 'NA'\n",
    "def get_rating(result):\n",
    "    try:\n",
    "        return result.find('span', {'class': 'ratingNumber'}).text\n",
    "    except:\n",
    "        return 'NA'"
   ]
  },
  {
   "cell_type": "code",
   "execution_count": 105,
   "id": "7f991950",
   "metadata": {},
   "outputs": [],
   "source": [
    "from time import sleep\n",
    "import pandas as pd\n",
    "import numpy as np"
   ]
  },
  {
   "cell_type": "code",
   "execution_count": 106,
   "id": "bce727c9",
   "metadata": {},
   "outputs": [
    {
     "data": {
      "text/plain": [
       "9"
      ]
     },
     "execution_count": 106,
     "metadata": {},
     "output_type": "execute_result"
    }
   ],
   "source": [
    "job_titles = [\n",
    "    'Data+Scientist', 'full+stack+developer', 'big+data+engineer',\n",
    "    'software+architect', 'blockchain', 'devops+engineer', 'cloud+architect',\n",
    "    'artificial+intelligence', 'product+manager'\n",
    "]\n",
    "\n",
    "len(job_titles)"
   ]
  },
  {
   "cell_type": "code",
   "execution_count": 107,
   "id": "8638e10b",
   "metadata": {},
   "outputs": [],
   "source": [
    "results = []"
   ]
  },
  {
   "cell_type": "code",
   "execution_count": null,
   "id": "ce6d7067",
   "metadata": {},
   "outputs": [],
   "source": [
    "max_results_per_job = 50000\n",
    "try:\n",
    "    for job in job_titles:\n",
    "        logging.info(\"-------------- Scrapping for : \" + job  + \" Started --------------------------\")\n",
    "        for start in range(0, max_results_per_job, 100):\n",
    "            url = \"https://in.indeed.com/jobs?q=\" + job + \"&start=\" + str(start) + '&limit=100'\n",
    "            html = requests.get(url) \n",
    "            soup = BeautifulSoup(html.text, 'html.parser')\n",
    "            for result in soup.find_all('div', {'class':'job_seen_beacon'}):\n",
    "                results.append(result)\n",
    "            sleep(5)\n",
    "        logging.info(\"Gathered \", str(len(results)), \" jobs so far ...\")\n",
    "        logging.info(\"-------------- Scrapping for : \" + job  + \" Completed -------------------------\")\n",
    "    print(\"Scraping done !!! Check logs for more info\")\n",
    "except Exception as e:\n",
    "    logging.error(e)\n",
    "    print(\"Something went wrong :(. Please check logs\")"
   ]
  },
  {
   "cell_type": "code",
   "execution_count": 100,
   "id": "cf34ea9c",
   "metadata": {},
   "outputs": [],
   "source": [
    "jobs0 = pd.DataFrame(columns=['location', 'title', 'company', 'salary', 'summary', 'rating'])"
   ]
  },
  {
   "cell_type": "code",
   "execution_count": 101,
   "id": "b1a90956",
   "metadata": {},
   "outputs": [],
   "source": [
    "for entry in results:\n",
    "    location = get_loc(entry)\n",
    "    title = get_job(entry)\n",
    "    company = get_comp(entry)\n",
    "    salary = get_sal(entry)\n",
    "    desc = get_desc(entry)\n",
    "    rating = get_rating(entry)\n",
    "    jobs0.loc[len(jobs0)] = [location, title, company, salary, desc, rating]"
   ]
  },
  {
   "cell_type": "code",
   "execution_count": 102,
   "id": "34242cb4",
   "metadata": {},
   "outputs": [
    {
     "data": {
      "text/html": [
       "<div>\n",
       "<style scoped>\n",
       "    .dataframe tbody tr th:only-of-type {\n",
       "        vertical-align: middle;\n",
       "    }\n",
       "\n",
       "    .dataframe tbody tr th {\n",
       "        vertical-align: top;\n",
       "    }\n",
       "\n",
       "    .dataframe thead th {\n",
       "        text-align: right;\n",
       "    }\n",
       "</style>\n",
       "<table border=\"1\" class=\"dataframe\">\n",
       "  <thead>\n",
       "    <tr style=\"text-align: right;\">\n",
       "      <th></th>\n",
       "      <th>location</th>\n",
       "      <th>title</th>\n",
       "      <th>company</th>\n",
       "      <th>salary</th>\n",
       "      <th>summary</th>\n",
       "      <th>rating</th>\n",
       "    </tr>\n",
       "  </thead>\n",
       "  <tbody>\n",
       "    <tr>\n",
       "      <th>count</th>\n",
       "      <td>50</td>\n",
       "      <td>50</td>\n",
       "      <td>50</td>\n",
       "      <td>50</td>\n",
       "      <td>50</td>\n",
       "      <td>50</td>\n",
       "    </tr>\n",
       "    <tr>\n",
       "      <th>unique</th>\n",
       "      <td>16</td>\n",
       "      <td>29</td>\n",
       "      <td>44</td>\n",
       "      <td>14</td>\n",
       "      <td>50</td>\n",
       "      <td>12</td>\n",
       "    </tr>\n",
       "    <tr>\n",
       "      <th>top</th>\n",
       "      <td>Bengaluru, Karnataka</td>\n",
       "      <td>newData Scientist</td>\n",
       "      <td>Shell</td>\n",
       "      <td>NA</td>\n",
       "      <td>\\nAcquire, cleanse, organize and mine massive ...</td>\n",
       "      <td>NA</td>\n",
       "    </tr>\n",
       "    <tr>\n",
       "      <th>freq</th>\n",
       "      <td>19</td>\n",
       "      <td>16</td>\n",
       "      <td>3</td>\n",
       "      <td>35</td>\n",
       "      <td>1</td>\n",
       "      <td>20</td>\n",
       "    </tr>\n",
       "  </tbody>\n",
       "</table>\n",
       "</div>"
      ],
      "text/plain": [
       "                    location              title company salary  \\\n",
       "count                     50                 50      50     50   \n",
       "unique                    16                 29      44     14   \n",
       "top     Bengaluru, Karnataka  newData Scientist   Shell     NA   \n",
       "freq                      19                 16       3     35   \n",
       "\n",
       "                                                  summary rating  \n",
       "count                                                  50     50  \n",
       "unique                                                 50     12  \n",
       "top     \\nAcquire, cleanse, organize and mine massive ...     NA  \n",
       "freq                                                    1     20  "
      ]
     },
     "execution_count": 102,
     "metadata": {},
     "output_type": "execute_result"
    }
   ],
   "source": [
    "jobs0.describe()"
   ]
  },
  {
   "cell_type": "code",
   "execution_count": null,
   "id": "75fd1565",
   "metadata": {},
   "outputs": [],
   "source": [
    "results"
   ]
  },
  {
   "cell_type": "code",
   "execution_count": null,
   "id": "674f4ff4",
   "metadata": {},
   "outputs": [],
   "source": [
    "# start = 10\n",
    "# url = \"https://in.indeed.com/jobs?q=Data+Scientist&start=\" + str(start) + '&limit=100'\n",
    "\n",
    "# html = requests.get(url)\n",
    "# results = []  \n",
    "# soup = BeautifulSoup(html.text, 'html.parser')\n",
    "# # print(soup)\n",
    "# for result in soup.find_all('div', {'class':'job_seen_beacon'}):\n",
    "#     results.append(result)\n",
    "#     print(result)\n",
    "# sleep(1)"
   ]
  },
  {
   "cell_type": "code",
   "execution_count": 84,
   "id": "be4f92fa",
   "metadata": {},
   "outputs": [
    {
     "data": {
      "text/plain": [
       "1394"
      ]
     },
     "execution_count": 84,
     "metadata": {},
     "output_type": "execute_result"
    }
   ],
   "source": [
    "len(results)"
   ]
  },
  {
   "cell_type": "code",
   "execution_count": 30,
   "id": "836738c3",
   "metadata": {},
   "outputs": [
    {
     "data": {
      "text/plain": [
       "<div class=\"job_seen_beacon\"><table cellpadding=\"0\" cellspacing=\"0\" class=\"jobCard_mainContent big6_visualChanges\" role=\"presentation\"><tbody><tr><td class=\"resultContent\"><div class=\"heading4 color-text-primary singleLineTitle tapItem-gutter\"><h2 class=\"jobTitle jobTitle-color-purple\"><a aria-label=\"full details of Data Scientist\" class=\"jcs-JobTitle\" data-ci=\"387888371\" data-empn=\"6004327826126810\" data-hide-spinner=\"true\" data-hiring-event=\"false\" data-jk=\"d3a62db9cd99aff6\" data-mobtk=\"1g2voj7tei83d800\" href=\"/pagead/clk?mo=r&amp;ad=-6NYlbfkN0BKwMOZH4fgpIIWSrlpgS0tSkW3tfilVH9rzQFVfnBGL4KA0iAqNFgAnkYL5RDecNdodOzz7NQ2OIvNnDQUK9dIiRJ7jJXK2ICB7t7yuTAM_9y83dWJWJE8vxMEq-a8-3MmiDFIkdcAQ3hQlMPiy1TEZvTevXbd-9AiwwvS-yaIeOFpExqyy4Hui5EryQPAmE31V4WkexDM1J7h7FpN2vuq8XVUvvmrVCE7eJTqnmiFMI56plinU140-cPTbCGW-ZHbb3c5w_3ruWpIfbzPE0tzmK-o1zkHRzXw4uggcBIE3duaUPCSxITq8yxkFOAzeU01YSJEbDdh86TVJxOkajEJEu9qgzos5bWOz6ZzdX1PrO6vORv9J90xEzGo1gSIf_BHZLNJ0yngEQNgk1GDDQ24zru3a0frgruIzt9JOKDBd0xXC6sbgytSNVIYjq9sRkSvnFHSAziW8Uh_wruuJR0wuzNekqAAfyY=&amp;p=0&amp;fvj=1&amp;vjs=3\" id=\"sj_d3a62db9cd99aff6\" role=\"button\" target=\"_blank\"><span title=\"Data Scientist\">Data Scientist</span></a></h2></div><div class=\"heading6 company_location tapItem-gutter companyInfo\"><span class=\"companyName\"><a class=\"turnstileLink companyOverviewLink\" data-tn-element=\"companyName\" href=\"/cmp/Applied-Materials\" rel=\"noopener\" target=\"_blank\">Applied Materials Inc.</a></span><span class=\"ratingsDisplay withRatingLink\"><a class=\"ratingLink\" data-tn-variant=\"cmplinktst2\" href=\"/cmp/Applied-Materials/reviews\" rel=\"noopener\" target=\"_blank\" title=\"Applied Materials Inc. reviews\"><span aria-label=\"3.9 of stars rating\" class=\"ratingNumber\" role=\"img\"><span aria-hidden=\"true\">3.9</span><svg aria-hidden=\"true\" class=\"starIcon\" fill=\"none\" height=\"12\" role=\"presentation\" viewbox=\"0 0 16 16\" width=\"12\" xmlns=\"http://www.w3.org/2000/svg\"><path d=\"M8 12.8709L12.4542 15.5593C12.7807 15.7563 13.1835 15.4636 13.0968 15.0922L11.9148 10.0254L15.8505 6.61581C16.1388 6.36608 15.9847 5.89257 15.6047 5.86033L10.423 5.42072L8.39696 0.640342C8.24839 0.289808 7.7516 0.289808 7.60303 0.640341L5.57696 5.42072L0.395297 5.86033C0.015274 5.89257 -0.13882 6.36608 0.149443 6.61581L4.0852 10.0254L2.90318 15.0922C2.81653 15.4636 3.21932 15.7563 3.54584 15.5593L8 12.8709Z\" fill=\"#767676\"></path></svg></span></a></span><div class=\"companyLocation\">Bengaluru, Karnataka</div></div><div class=\"heading6 tapItem-gutter metadataContainer noJEMChips salaryOnly\"><div class=\"metadata salary-snippet-container\"><div class=\"attribute_snippet\"><svg aria-hidden=\"true\" aria-label=\"Salary\" fill=\"none\" role=\"presentation\" viewbox=\"0 0 16 13\" xmlns=\"http://www.w3.org/2000/svg\"><defs></defs><path clip-rule=\"evenodd\" d=\"M2.45168 6.10292c-.30177-.125-.62509-.18964-.95168-.1903V4.08678c.32693-.00053.6506-.06518.95267-.1903.30331-.12564.57891-.30979.81105-.54193.23215-.23215.4163-.50775.54194-.81106.12524-.30237.18989-.62638.19029-.95365H9.0902c0 .3283.06466.65339.1903.9567.12564.30331.30978.57891.54193.81106.23217.23215.50777.41629.81107.54193.3032.12558.6281.19024.9562.1903v1.83556c-.3242.00155-.6451.06616-.9448.19028-.3033.12563-.5789.30978-.81102.54193-.23215.23214-.4163.50774-.54193.81106-.12332.2977-.18789.61638-.19024.93849H3.99496c-.00071-.32645-.06535-.64961-.19029-.95124-.12564-.30332-.30979-.57891-.54193-.81106-.23215-.23215-.50775-.4163-.81106-.54193zM0 .589843C0 .313701.223858.0898438.5.0898438h12.0897c.2762 0 .5.2238572.5.5000002V9.40715c0 .27614-.2238.5-.5.5H.5c-.276143 0-.5-.22386-.5-.5V.589843zM6.54427 6.99849c1.10457 0 2-.89543 2-2s-.89543-2-2-2-2 .89543-2 2 .89543 2 2 2zm8.05523-2.69917v7.10958H2.75977c-.27615 0-.5.2238-.5.5v.5c0 .2761.22385.5.5.5H15.422c.4419 0 .6775-.2211.6775-.6629V4.29932c0-.27615-.2239-.5-.5-.5h-.5c-.2761 0-.5.22385-.5.5z\" fill=\"#595959\" fill-rule=\"evenodd\"></path></svg>₹5,26,846 - ₹17,85,107 a year</div></div></div><div class=\"heading6 error-text tapItem-gutter\"></div></td></tr></tbody></table><table class=\"jobCardShelfContainer big6_visualChanges\" role=\"presentation\"><tbody><tr class=\"jobCardShelf\"><td class=\"shelfItem indeedApply\"><span class=\"iaIcon\"></span><span class=\"ialbl iaTextBlack\">Apply securely with Indeed Resume</span></td></tr><tr class=\"underShelfFooter\"><td><div class=\"heading6 tapItem-gutter result-footer\"><div class=\"job-snippet\"><ul style=\"list-style-type:circle;margin-top: 0px;margin-bottom: 0px;padding-left:20px;\">\n",
       "<li>Acquire, cleanse, organize and mine massive volumes of <b>data</b> (sensor/system log) using custom scripts Learn, understand and apply customer <b>data</b> in statistical…</li>\n",
       "</ul></div><span class=\"date\"><span class=\"visually-hidden\">Employer</span>Active 1 day ago</span></div></td></tr></tbody></table><div aria-live=\"polite\"></div></div>"
      ]
     },
     "execution_count": 30,
     "metadata": {},
     "output_type": "execute_result"
    }
   ],
   "source": [
    "results[0].find('div', {'class': 'companyLocation'}).text"
   ]
  },
  {
   "cell_type": "code",
   "execution_count": 79,
   "id": "e809500c",
   "metadata": {},
   "outputs": [
    {
     "data": {
      "text/plain": [
       "<div class=\"job_seen_beacon\"><table cellpadding=\"0\" cellspacing=\"0\" class=\"jobCard_mainContent big6_visualChanges\" role=\"presentation\"><tbody><tr><td class=\"resultContent\"><div class=\"heading4 color-text-primary singleLineTitle tapItem-gutter\"><h2 class=\"jobTitle jobTitle-color-purple jobTitle-newJob\"><div class=\"new topLeft holisticNewBlue desktop\"><span class=\"label\">new</span></div><a aria-label=\"full details of Data Scientist - SQL Queries\" class=\"jcs-JobTitle\" data-ci=\"377368798\" data-empn=\"2749821904811381\" data-hide-spinner=\"true\" data-hiring-event=\"false\" data-jk=\"72bcd51ccaf43837\" data-mobtk=\"1g2voj7tei83d800\" href=\"/pagead/clk?mo=r&amp;ad=-6NYlbfkN0D5mXFGwCT9lo97i3gsfTR9iTAPBTm16RjVfbVH6M8QHNgOaln1iNnYcvHSVUPOJ5byt9Q61R3abtsigFGvoWX9FfIAxI_8Zy8UXZuxtj9Bu3p1DUkqDfk0WQwdjln3fEXUBg8GxgJ4olfsFwNfppMpuzqNdCmqG_NUrpCQhl8PFfv2oipHYfbhHznvKMazOOtOoQuZB4N0M2Ccoodtv0rr8tTktqm0FlpaIywpqa2pPF4XE44lKN3-wAyiPCdafL3o9fklJqdDJTF0TavRpZCnI7nKvnW-rhdozr_gKKzKRZcNX0sQzT2T46Ty7nd7G3rgjvnJaHU0snDnNNVvFoZ_kxZqOZm5xH15R0fKfYff2hDbl1iN0Hto-yLXllXGnGTEd3og35w_YMW8kYth20ZweTew3Lhy_rREV2Mox937GFQXbi5OWp3vw7ImVl9sCHw1Vj0nQWYVqiwr1B9WcnQ2CAHcSV6QC7qToeF4QEfEglIHEXs1hqX5GvFT8rCFaLVrAvK3o5IGbDJLlrIeCGVAfHaqooTY4ztLorLZrxwfDrdni7fDGwXE1hYZat1DFpGOPJs65NvZOzyELNV3MN5Wlq6TcuEjZlkcR7F2Dwp9Ca4oGstGEH609Ee0SVekodID7fcI9pZ64IeYOltgLryQg9R07tyTECvLhJRYXv4Cnidar3QvNal9VYkWb_eQf8j43rMMbmZXOA==&amp;p=3&amp;fvj=0&amp;vjs=3\" id=\"sj_72bcd51ccaf43837\" role=\"button\" target=\"_blank\"><span title=\"Data Scientist - SQL Queries\">Data Scientist - SQL Queries</span></a></h2></div><div class=\"heading6 company_location tapItem-gutter companyInfo\"><span class=\"companyName\">Talent500</span><div class=\"companyLocation\">Bengaluru, Karnataka</div></div><div class=\"heading6 error-text tapItem-gutter\"></div></td></tr></tbody></table><table class=\"jobCardShelfContainer big6_visualChanges\" role=\"presentation\"><tbody><tr class=\"jobCardShelf\"><td class=\"shelfItem indeedApply\"><span class=\"iaIcon\"></span><span class=\"ialbl iaTextBlack\">Apply securely with Indeed Resume</span></td></tr><tr class=\"underShelfFooter\"><td><div class=\"heading6 tapItem-gutter result-footer\"><div class=\"job-snippet\"><ul style=\"list-style-type:circle;margin-top: 0px;margin-bottom: 0px;padding-left:20px;\">\n",
       "<li style=\"margin-bottom:0px;\">You execute deep &amp; complex quantitative analyses that translate <b>data</b> into actionable insights.</li>\n",
       "<li>As a Lead Business Analyst, you are expected to have a top-down…</li>\n",
       "</ul></div><span class=\"date\"><span class=\"visually-hidden\">Posted</span>8 days ago</span></div></td></tr></tbody></table><div aria-live=\"polite\"></div></div>"
      ]
     },
     "execution_count": 79,
     "metadata": {},
     "output_type": "execute_result"
    }
   ],
   "source": [
    "results[3]"
   ]
  },
  {
   "cell_type": "code",
   "execution_count": 35,
   "id": "a9322502",
   "metadata": {},
   "outputs": [
    {
     "data": {
      "text/plain": [
       "'EmployerActive 1 day ago'"
      ]
     },
     "execution_count": 35,
     "metadata": {},
     "output_type": "execute_result"
    }
   ],
   "source": [
    "results[0].find('span', {'class': 'date'}).text"
   ]
  },
  {
   "cell_type": "code",
   "execution_count": 38,
   "id": "6a2b8aec",
   "metadata": {},
   "outputs": [],
   "source": [
    "location = get_loc(results[0])\n",
    "title = get_job(results[0])\n",
    "company = get_comp(results[0])\n",
    "salary = get_sal(results[0])\n",
    "desc = get_desc(results[0])"
   ]
  },
  {
   "cell_type": "code",
   "execution_count": 40,
   "id": "810a4cc3",
   "metadata": {},
   "outputs": [
    {
     "name": "stdout",
     "output_type": "stream",
     "text": [
      "NA\n"
     ]
    }
   ],
   "source": [
    "print(title)"
   ]
  },
  {
   "cell_type": "code",
   "execution_count": 61,
   "id": "b2f4c5eb",
   "metadata": {},
   "outputs": [
    {
     "data": {
      "text/plain": [
       "'Bengaluru, Karnataka'"
      ]
     },
     "execution_count": 61,
     "metadata": {},
     "output_type": "execute_result"
    }
   ],
   "source": [
    "def get_comp_loc(entry):\n",
    "    try:\n",
    "        return entry.find('div', {'class': 'companyLocation'}).text\n",
    "    except Exception as e:\n",
    "        return 'NA'\n",
    "get_comp_loc(results[0])"
   ]
  },
  {
   "cell_type": "code",
   "execution_count": 54,
   "id": "548890fc",
   "metadata": {},
   "outputs": [
    {
     "name": "stdout",
     "output_type": "stream",
     "text": [
      "Applied Materials Inc.\n"
     ]
    }
   ],
   "source": [
    "try:\n",
    "    print(results[0].find('span', {'class': 'companyName'}).text)\n",
    "except Exception as e:\n",
    "    print(e)"
   ]
  },
  {
   "cell_type": "code",
   "execution_count": 78,
   "id": "aaa368ee",
   "metadata": {},
   "outputs": [
    {
     "name": "stdout",
     "output_type": "stream",
     "text": [
      "newData Scientist - SQL Queries\n"
     ]
    }
   ],
   "source": [
    "try:\n",
    "    print(results[3].find('h2', {'class': 'jobTitle'}).text)\n",
    "except Exception as e:\n",
    "    print(e)"
   ]
  },
  {
   "cell_type": "code",
   "execution_count": 59,
   "id": "98e47434",
   "metadata": {},
   "outputs": [
    {
     "name": "stdout",
     "output_type": "stream",
     "text": [
      "₹5,26,846 - ₹17,85,107 a year\n"
     ]
    }
   ],
   "source": [
    "try:\n",
    "    print(results[0].find('div', {'class': 'salaryOnly'}).text)\n",
    "except Exception as e:\n",
    "    print(e)"
   ]
  },
  {
   "cell_type": "code",
   "execution_count": 60,
   "id": "3601e6c3",
   "metadata": {},
   "outputs": [
    {
     "name": "stdout",
     "output_type": "stream",
     "text": [
      "\n",
      "Acquire, cleanse, organize and mine massive volumes of data (sensor/system log) using custom scripts Learn, understand and apply customer data in statistical…\n",
      "\n"
     ]
    }
   ],
   "source": [
    "try:\n",
    "    print(results[0].find('div', {'class': 'job-snippet'}).text)\n",
    "except Exception as e:\n",
    "    print(e)"
   ]
  },
  {
   "cell_type": "code",
   "execution_count": 73,
   "id": "3d1e84a8",
   "metadata": {},
   "outputs": [
    {
     "name": "stdout",
     "output_type": "stream",
     "text": [
      "3.9\n"
     ]
    }
   ],
   "source": [
    "try:\n",
    "    print(results[0].find('span', {'class': 'ratingNumber'}).text)\n",
    "except Exception as e:\n",
    "    print(e)"
   ]
  },
  {
   "cell_type": "code",
   "execution_count": 93,
   "id": "63406ad3",
   "metadata": {},
   "outputs": [],
   "source": []
  },
  {
   "cell_type": "code",
   "execution_count": null,
   "id": "7fb5a1d5",
   "metadata": {},
   "outputs": [],
   "source": []
  }
 ],
 "metadata": {
  "kernelspec": {
   "display_name": "Python 3 (ipykernel)",
   "language": "python",
   "name": "python3"
  },
  "language_info": {
   "codemirror_mode": {
    "name": "ipython",
    "version": 3
   },
   "file_extension": ".py",
   "mimetype": "text/x-python",
   "name": "python",
   "nbconvert_exporter": "python",
   "pygments_lexer": "ipython3",
   "version": "3.9.7"
  }
 },
 "nbformat": 4,
 "nbformat_minor": 5
}
