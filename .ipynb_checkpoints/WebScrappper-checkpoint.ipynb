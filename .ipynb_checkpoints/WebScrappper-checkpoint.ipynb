{
 "cells": [
  {
   "cell_type": "code",
   "execution_count": 7,
   "id": "4c72656b",
   "metadata": {},
   "outputs": [],
   "source": [
    "import requests, bs4, nltk.corpus\n",
    "import pandas as pd\n",
    "import numpy as np\n",
    "from bs4 import BeautifulSoup\n",
    "from datetime import datetime\n",
    "from time import sleep\n",
    "# nltk.download('stopwords')\n",
    "from nltk.corpus import stopwords"
   ]
  },
  {
   "cell_type": "code",
   "execution_count": 8,
   "id": "18381cc8",
   "metadata": {},
   "outputs": [],
   "source": [
    "# Misc func.\n",
    "\n",
    "def print_df(df):\n",
    "    for i in df:\n",
    "        print(i)"
   ]
  },
  {
   "cell_type": "code",
   "execution_count": 9,
   "id": "e4cbc000",
   "metadata": {},
   "outputs": [],
   "source": [
    "def get_loc(result):\n",
    "    try:\n",
    "        return entry.find('div', {'class': 'companyLocation'}).text\n",
    "    except Exception as e:\n",
    "        return 'NA'\n",
    "\n",
    "\n",
    "def get_comp(result):\n",
    "    try:\n",
    "        return result.find('span', {'class': 'companyName'}).text\n",
    "    except:\n",
    "        return 'NA'\n",
    "\n",
    "\n",
    "def get_job(result):\n",
    "    try:\n",
    "        return result.find('h2', {'class': 'jobTitle'}).text\n",
    "    except:\n",
    "        return 'NA'\n",
    "\n",
    "\n",
    "def get_sal(result):\n",
    "    try:\n",
    "        return result.find('div', {'class': 'salaryOnly'}).text\n",
    "    except:\n",
    "        return 'NA'\n",
    "\n",
    "\n",
    "def get_desc(result):\n",
    "    try:\n",
    "        return result.find('div', {'class': 'job-snippet'}).text\n",
    "    except:\n",
    "        return 'NA'\n",
    "def get_rating(result):\n",
    "    try:\n",
    "        return result.find('span', {'class': 'ratingNumber'}).text\n",
    "    except:\n",
    "        return 'NA'"
   ]
  },
  {
   "cell_type": "code",
   "execution_count": 10,
   "id": "bce727c9",
   "metadata": {},
   "outputs": [
    {
     "data": {
      "text/plain": [
       "9"
      ]
     },
     "execution_count": 10,
     "metadata": {},
     "output_type": "execute_result"
    }
   ],
   "source": [
    "job_titles = [\n",
    "    'Data+Scientist', 'full+stack+developer', 'big+data+engineer',\n",
    "    'software+architect', 'blockchain', 'devops+engineer', 'cloud+architect',\n",
    "    'artificial+intelligence', 'product+manager'\n",
    "]\n",
    "\n",
    "len(job_titles)"
   ]
  },
  {
   "cell_type": "code",
   "execution_count": 11,
   "id": "8638e10b",
   "metadata": {},
   "outputs": [],
   "source": [
    "results = []"
   ]
  },
  {
   "cell_type": "code",
   "execution_count": null,
   "id": "ce6d7067",
   "metadata": {},
   "outputs": [
    {
     "name": "stdout",
     "output_type": "stream",
     "text": [
      "2022-05-17 12:03:15.098535\n",
      "---------- Started for Data+Scientist\n",
      "2022-05-17 12:04:11.744716\n",
      "Gathered 0 jobs so far\n",
      "---------- Completed for Data+Scientist\n",
      "---------------------------------------------------------------\n",
      "---------- Started for full+stack+developer\n",
      "2022-05-17 12:11:08.449135\n",
      "Gathered 0 jobs so far\n",
      "---------- Completed for full+stack+developer\n",
      "---------------------------------------------------------------\n",
      "---------- Started for big+data+engineer\n",
      "2022-05-17 12:18:05.119831\n",
      "Gathered 0 jobs so far\n",
      "---------- Completed for big+data+engineer\n",
      "---------------------------------------------------------------\n",
      "---------- Started for software+architect\n",
      "2022-05-17 12:25:01.712640\n",
      "Gathered 0 jobs so far\n",
      "---------- Completed for software+architect\n",
      "---------------------------------------------------------------\n",
      "---------- Started for blockchain\n",
      "2022-05-17 12:31:58.447443\n",
      "Gathered 0 jobs so far\n",
      "---------- Completed for blockchain\n",
      "---------------------------------------------------------------\n",
      "---------- Started for devops+engineer\n",
      "2022-05-17 12:38:55.012688\n",
      "Gathered 0 jobs so far\n",
      "---------- Completed for devops+engineer\n",
      "---------------------------------------------------------------\n"
     ]
    }
   ],
   "source": [
    "max_results_per_job = 1000\n",
    "start_time = datetime.now()\n",
    "print(start_time)\n",
    "\n",
    "try:\n",
    "    for job in job_titles:\n",
    "        print(\"---------- Started for \" + job)\n",
    "        for start in range(0, max_results_per_job, 100):\n",
    "            url = \"https://in.indeed.com/jobs?q=\" + job + \"&start=\" + str(\n",
    "                start) + '&limit=100'\n",
    "            html = requests.get(url)\n",
    "            soup = BeautifulSoup(html.text, 'html.parser')\n",
    "            for result in soup.find_all('div', {'class': 'job_seen_beacon'}):\n",
    "                results.append(result)\n",
    "            sleep(5)\n",
    "        print(datetime.now())\n",
    "        print(\"Gathered \" + str(len(results)) + \" jobs so far\")\n",
    "        print(\"---------- Completed for \" + job)\n",
    "        print(\"---------------------------------------------------------------\")\n",
    "        sleep(360)\n",
    "    print(\"Scraping done !!! Check logs for more info\")\n",
    "except Exception as e:\n",
    "    print(\"ERROR: Something went wrong \", e)\n",
    "\n",
    "end_time = datetime.now()\n",
    "print(end_time)\n",
    "print(end_time - start_time)"
   ]
  },
  {
   "cell_type": "code",
   "execution_count": null,
   "id": "cf34ea9c",
   "metadata": {},
   "outputs": [],
   "source": [
    "df_jobs = pd.DataFrame(\n",
    "    columns=['location', 'title', 'company', 'salary', 'summary', 'rating'])"
   ]
  },
  {
   "cell_type": "code",
   "execution_count": null,
   "id": "b1a90956",
   "metadata": {},
   "outputs": [],
   "source": [
    "for entry in results:\n",
    "    location = get_loc(entry)\n",
    "    title = get_job(entry)\n",
    "    company = get_comp(entry)\n",
    "    salary = get_sal(entry)\n",
    "    desc = get_desc(entry)\n",
    "    rating = get_rating(entry)\n",
    "    df_jobs.loc[len(df_jobs)] = [\n",
    "        location, title, company, salary, desc, rating\n",
    "    ]"
   ]
  },
  {
   "cell_type": "code",
   "execution_count": 2,
   "id": "dfcc31a9",
   "metadata": {},
   "outputs": [
    {
     "data": {
      "text/plain": [
       "0"
      ]
     },
     "execution_count": 2,
     "metadata": {},
     "output_type": "execute_result"
    }
   ],
   "source": [
    "len(results)"
   ]
  },
  {
   "cell_type": "code",
   "execution_count": null,
   "id": "34242cb4",
   "metadata": {
    "scrolled": true
   },
   "outputs": [],
   "source": [
    "df_jobs.drop_duplicates(inplace = True, keep='first')\n",
    "df_jobs\n",
    "df_jobs.to_csv(r'./Dataset/job_scrap.csv')\n",
    "# df_job_scrap.describe()"
   ]
  },
  {
   "cell_type": "code",
   "execution_count": null,
   "id": "75fd1565",
   "metadata": {},
   "outputs": [],
   "source": [
    "df_jobs = pd.read_csv(r'./Dataset/job_raw.csv')\n",
    "df_jobs.head()\n",
    "df_jobs.isna().sum()"
   ]
  },
  {
   "cell_type": "code",
   "execution_count": null,
   "id": "b3a73b7f",
   "metadata": {},
   "outputs": [],
   "source": [
    "df_jobs[df_jobs.duplicated()]\n",
    "df_jobs.drop(columns=['Unnamed: 0'], inplace=True)"
   ]
  },
  {
   "cell_type": "code",
   "execution_count": null,
   "id": "f12d29c2",
   "metadata": {},
   "outputs": [],
   "source": [
    "display(df_jobs.describe())\n",
    "print(df_jobs.isna().sum())"
   ]
  },
  {
   "cell_type": "code",
   "execution_count": null,
   "id": "b77e749d",
   "metadata": {},
   "outputs": [],
   "source": [
    "df_jobs.replace(to_replace='NA', value=np.nan, inplace=True)"
   ]
  },
  {
   "cell_type": "code",
   "execution_count": null,
   "id": "7cc1c281",
   "metadata": {},
   "outputs": [],
   "source": [
    "df = df_jobs"
   ]
  },
  {
   "cell_type": "code",
   "execution_count": null,
   "id": "d70ec4e0",
   "metadata": {},
   "outputs": [],
   "source": [
    "print('Unique Locations  \\t:', len(df.location.unique()))\n",
    "print('Unique Title  \\t\\t:', len(df.title.unique()))\n",
    "print('Unique Company  \\t:', len(df.company.unique()))\n",
    "print('Unique Salary \\t\\t:', len(df.salary.unique()))\n",
    "print('Unique Rating \\t\\t:', len(df.rating.unique()))\n",
    "# Unique Locations  \t: 385\n",
    "# Unique Title  \t\t: 3409\n",
    "# Unique Company  \t: 2426\n",
    "# Unique Salary \t\t: 605\n",
    "# Unique Rating \t\t: 31"
   ]
  },
  {
   "cell_type": "code",
   "execution_count": null,
   "id": "fa133769",
   "metadata": {},
   "outputs": [],
   "source": [
    "# \"\"\"\n",
    "# * Noise found\n",
    "#      1. 'Remote in '\n",
    "#      2. '+1 location'\n",
    "#      3. 'Hybrid remote in '\n",
    "#      4. '+7 location'\n",
    "#      5. '+2 location'\n",
    "#      6. 'Temporarily Remote in '\n",
    "# \"\"\""
   ]
  },
  {
   "cell_type": "code",
   "execution_count": null,
   "id": "79d7837a",
   "metadata": {},
   "outputs": [],
   "source": [
    "stop_words = stopwords.words('english') + [\n",
    "    'in', 'remote', 'Remote', 'location', 'locations', 'Temporarily', 'Hybrid',\n",
    "    'India'\n",
    "]\n",
    "df['clean_location'] = df['location'].apply(lambda x: ' '.join(\n",
    "    [word for word in x.split() if word not in (stop_words)]))\n",
    "\n",
    "remove_list = ['+1', '+2', '+3', '+4', '+5', '+6', '+7', '+8', '+9', '9']\n",
    "for i in remove_list:\n",
    "    df.clean_location = df.clean_location.str.replace(i, '', regex=False)\n",
    "\n",
    "df.clean_location = df.clean_location.str.strip()"
   ]
  },
  {
   "cell_type": "code",
   "execution_count": null,
   "id": "45cee7f0",
   "metadata": {},
   "outputs": [],
   "source": [
    "df.head()"
   ]
  },
  {
   "cell_type": "code",
   "execution_count": null,
   "id": "38f08519",
   "metadata": {},
   "outputs": [],
   "source": [
    "print('Uncleaned Locations  \\t:', len(df.location.unique()))\n",
    "print('Cleaned Locations  \\t:', len(df.clean_location.unique()))"
   ]
  },
  {
   "cell_type": "code",
   "execution_count": null,
   "id": "72e9049c",
   "metadata": {},
   "outputs": [],
   "source": [
    "# print_df(df.title.unique())"
   ]
  },
  {
   "cell_type": "code",
   "execution_count": null,
   "id": "cc360b76",
   "metadata": {},
   "outputs": [],
   "source": [
    "stop_words = stopwords.words('english') +  ['Scien...', 'Forecastin...', '-', 'location', 'locations','Temporarily', 'Hybrid', 'India']\n",
    "df['clean_title'] = df['title'].apply(lambda x: ' '.join([word for word in x.split() if word not in (stop_words)]))"
   ]
  },
  {
   "cell_type": "code",
   "execution_count": null,
   "id": "3d96d116",
   "metadata": {},
   "outputs": [],
   "source": [
    "noise_char_title = ['new', '...', '-', '/', '(', ')', ':', '|', ',']\n",
    "for i in noise_char_title:\n",
    "    df.clean_title = df.clean_title.str.replace(i, '', regex=False)"
   ]
  },
  {
   "cell_type": "code",
   "execution_count": null,
   "id": "1b064e37",
   "metadata": {},
   "outputs": [],
   "source": [
    "print_df(df.clean_title)"
   ]
  },
  {
   "cell_type": "code",
   "execution_count": null,
   "id": "12ddb291",
   "metadata": {},
   "outputs": [],
   "source": [
    "for i in results:\n",
    "    print(get_job(i))"
   ]
  },
  {
   "cell_type": "code",
   "execution_count": null,
   "id": "4e2f5a11",
   "metadata": {},
   "outputs": [],
   "source": [
    "df['clean_title']"
   ]
  },
  {
   "cell_type": "code",
   "execution_count": null,
   "id": "3624f545",
   "metadata": {},
   "outputs": [],
   "source": [
    "df_comp_rat = df_jobs[['company', 'rating']]"
   ]
  },
  {
   "cell_type": "code",
   "execution_count": null,
   "id": "5b032074",
   "metadata": {},
   "outputs": [],
   "source": [
    "df_comp_rat.drop_duplicates(keep='first')"
   ]
  },
  {
   "cell_type": "code",
   "execution_count": null,
   "id": "075b448f",
   "metadata": {},
   "outputs": [],
   "source": [
    "import pandasql as psql"
   ]
  },
  {
   "cell_type": "code",
   "execution_count": null,
   "id": "855b3343",
   "metadata": {},
   "outputs": [],
   "source": [
    "df_temp = psql.sqldf(\"SELECT DISTINCT(clean_location) FROM df\")"
   ]
  },
  {
   "cell_type": "code",
   "execution_count": null,
   "id": "c70f74d3",
   "metadata": {},
   "outputs": [],
   "source": [
    "df_clean_loc_list = df_temp.clean_location.str.split(',')\n",
    "for i in df_clean_loc_list:\n",
    "    if len(i) == 1:\n",
    "        print(i)"
   ]
  },
  {
   "cell_type": "code",
   "execution_count": null,
   "id": "016c5594",
   "metadata": {},
   "outputs": [],
   "source": [
    "df_sal_list = df_jobs.salary.str.split(' ')\n",
    "for i in df_sal_list:\n",
    "    print(i)"
   ]
  },
  {
   "cell_type": "code",
   "execution_count": null,
   "id": "06f33889",
   "metadata": {},
   "outputs": [],
   "source": [
    "df_jobs"
   ]
  },
  {
   "cell_type": "code",
   "execution_count": null,
   "id": "bcf72e64",
   "metadata": {},
   "outputs": [
    {
     "name": "stdout",
     "output_type": "stream",
     "text": [
      "https://in.indeed.com/jobs?q=Data+Scientist&start=0\n",
      "<html lang=\"en\">\n",
      "<head>\n",
      "<title>hCaptcha solve page</title>\n",
      "<script async=\"\" defer=\"\" src=\"https://www.hcaptcha.com/1/api.js\"></script>\n",
      "</head>\n",
      "<body>\n",
      "<form action=\"/jobs?q=Data+Scientist&amp;start=0\" method=\"POST\">\n",
      "<div class=\"h-captcha\" data-sitekey=\"eb27f525-f936-43b4-91e2-95a426d4a8bd\"></div>\n",
      "<br/>\n",
      "<input type=\"submit\" value=\"Submit\"/>\n",
      "</form>\n",
      "</body>\n",
      "</html>\n",
      "\n",
      "2022-05-17 12:46:45.933795\n",
      "Gathered 0 jobs so far\n",
      "https://in.indeed.com/jobs?q=Data+Scientist&start=10\n",
      "<html lang=\"en\">\n",
      "<head>\n",
      "<title>hCaptcha solve page</title>\n",
      "<script async=\"\" defer=\"\" src=\"https://www.hcaptcha.com/1/api.js\"></script>\n",
      "</head>\n",
      "<body>\n",
      "<form action=\"/jobs?q=Data+Scientist&amp;start=10\" method=\"POST\">\n",
      "<div class=\"h-captcha\" data-sitekey=\"eb27f525-f936-43b4-91e2-95a426d4a8bd\"></div>\n",
      "<br/>\n",
      "<input type=\"submit\" value=\"Submit\"/>\n",
      "</form>\n",
      "</body>\n",
      "</html>\n",
      "\n",
      "2022-05-17 12:46:51.601231\n",
      "Gathered 0 jobs so far\n",
      "https://in.indeed.com/jobs?q=Data+Scientist&start=20\n",
      "<html lang=\"en\">\n",
      "<head>\n",
      "<title>hCaptcha solve page</title>\n",
      "<script async=\"\" defer=\"\" src=\"https://www.hcaptcha.com/1/api.js\"></script>\n",
      "</head>\n",
      "<body>\n",
      "<form action=\"/jobs?q=Data+Scientist&amp;start=20\" method=\"POST\">\n",
      "<div class=\"h-captcha\" data-sitekey=\"eb27f525-f936-43b4-91e2-95a426d4a8bd\"></div>\n",
      "<br/>\n",
      "<input type=\"submit\" value=\"Submit\"/>\n",
      "</form>\n",
      "</body>\n",
      "</html>\n",
      "\n",
      "2022-05-17 12:46:57.292278\n",
      "Gathered 0 jobs so far\n",
      "https://in.indeed.com/jobs?q=Data+Scientist&start=30\n",
      "<html lang=\"en\">\n",
      "<head>\n",
      "<title>hCaptcha solve page</title>\n",
      "<script async=\"\" defer=\"\" src=\"https://www.hcaptcha.com/1/api.js\"></script>\n",
      "</head>\n",
      "<body>\n",
      "<form action=\"/jobs?q=Data+Scientist&amp;start=30\" method=\"POST\">\n",
      "<div class=\"h-captcha\" data-sitekey=\"eb27f525-f936-43b4-91e2-95a426d4a8bd\"></div>\n",
      "<br/>\n",
      "<input type=\"submit\" value=\"Submit\"/>\n",
      "</form>\n",
      "</body>\n",
      "</html>\n",
      "\n",
      "2022-05-17 12:47:05.167795\n",
      "Gathered 0 jobs so far\n",
      "https://in.indeed.com/jobs?q=Data+Scientist&start=40\n",
      "<html lang=\"en\">\n",
      "<head>\n",
      "<title>hCaptcha solve page</title>\n",
      "<script async=\"\" defer=\"\" src=\"https://www.hcaptcha.com/1/api.js\"></script>\n",
      "</head>\n",
      "<body>\n",
      "<form action=\"/jobs?q=Data+Scientist&amp;start=40\" method=\"POST\">\n",
      "<div class=\"h-captcha\" data-sitekey=\"eb27f525-f936-43b4-91e2-95a426d4a8bd\"></div>\n",
      "<br/>\n",
      "<input type=\"submit\" value=\"Submit\"/>\n",
      "</form>\n",
      "</body>\n",
      "</html>\n",
      "\n",
      "2022-05-17 12:47:10.837021\n",
      "Gathered 0 jobs so far\n",
      "https://in.indeed.com/jobs?q=Data+Scientist&start=50\n",
      "<html lang=\"en\">\n",
      "<head>\n",
      "<title>hCaptcha solve page</title>\n",
      "<script async=\"\" defer=\"\" src=\"https://www.hcaptcha.com/1/api.js\"></script>\n",
      "</head>\n",
      "<body>\n",
      "<form action=\"/jobs?q=Data+Scientist&amp;start=50\" method=\"POST\">\n",
      "<div class=\"h-captcha\" data-sitekey=\"eb27f525-f936-43b4-91e2-95a426d4a8bd\"></div>\n",
      "<br/>\n",
      "<input type=\"submit\" value=\"Submit\"/>\n",
      "</form>\n",
      "</body>\n",
      "</html>\n",
      "\n"
     ]
    }
   ],
   "source": [
    "\n",
    "for start in range(0, 1000, 10):\n",
    "    url = \"https://in.indeed.com/jobs?q=\" + job_titles[0] + \"&start=\" + str(\n",
    "        start)\n",
    "    print(url)\n",
    "    html = requests.get(url)\n",
    "    soup = BeautifulSoup(html.text, 'html.parser')\n",
    "    print(soup)\n",
    "    for result in soup.find_all('div', {'class': 'job_seen_beacon'}):\n",
    "        print(\"Result:\", result)\n",
    "        results.append(result)\n",
    "    sleep(5)\n",
    "    print(datetime.now())\n",
    "    print(\"Gathered \" + str(len(results)) + \" jobs so far\")\n",
    "print(\"---------- Completed for \" + job_titles[0])\n",
    "print(\"---------------------------------------------------------------\")"
   ]
  },
  {
   "cell_type": "code",
   "execution_count": null,
   "id": "e07375eb",
   "metadata": {},
   "outputs": [],
   "source": []
  }
 ],
 "metadata": {
  "kernelspec": {
   "display_name": "Python 3 (ipykernel)",
   "language": "python",
   "name": "python3"
  },
  "language_info": {
   "codemirror_mode": {
    "name": "ipython",
    "version": 3
   },
   "file_extension": ".py",
   "mimetype": "text/x-python",
   "name": "python",
   "nbconvert_exporter": "python",
   "pygments_lexer": "ipython3",
   "version": "3.9.7"
  }
 },
 "nbformat": 4,
 "nbformat_minor": 5
}
